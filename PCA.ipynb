{
 "cells": [
  {
   "cell_type": "code",
   "execution_count": 1,
   "id": "04f7886c",
   "metadata": {},
   "outputs": [],
   "source": [
    "# PCA\n",
    "import pandas as pd\n",
    "import numpy as np\n",
    "from sklearn.decomposition import PCA\n",
    "from sklearn.model_selection import train_test_split\n",
    "import matplotlib.pyplot as plt\n",
    "from sklearn.preprocessing import StandardScaler\n",
    "from sklearn.neighbors import KNeighborsClassifier\n",
    "from sklearn import metrics\n",
    "from sklearn.naive_bayes import GaussianNB\n",
    "from sklearn.linear_model import LogisticRegression\n",
    "from sklearn.ensemble import RandomForestClassifier\n",
    "from sklearn.model_selection import KFold, cross_val_score, cross_val_predict"
   ]
  },
  {
   "cell_type": "code",
   "execution_count": 2,
   "id": "05f692aa",
   "metadata": {},
   "outputs": [],
   "source": [
    "# read in file\n",
    "dataset = pd.read_csv(\"Brain_GSE50161.csv\")\n",
    "dataset['type'] = dataset['type'].replace(['ependymoma', 'glioblastoma','medulloblastoma', 'pilocytic_astrocytoma','normal'],[0,1,2,3,4])\n",
    "label = dataset.iloc[:,1]\n",
    "original_features = dataset.iloc[:,2:]"
   ]
  },
  {
   "cell_type": "code",
   "execution_count": 3,
   "id": "c84862b1",
   "metadata": {},
   "outputs": [],
   "source": [
    "# Normalization:\n",
    "features = (original_features - np.min(original_features)) / (np.max(original_features) - np.min(original_features))"
   ]
  },
  {
   "cell_type": "code",
   "execution_count": 4,
   "id": "2fa2f4a0",
   "metadata": {},
   "outputs": [],
   "source": [
    "#PCA, Ensure that the data after dimensionality reduction maintains 99% of the information\n",
    "scalar = StandardScaler()\n",
    "scalar.fit(features)\n",
    "scaled_data = scalar.transform(features)\n",
    "\n",
    "pca = PCA(n_components=0.99)\n",
    "pca.fit(scaled_data)\n",
    "x_pca = pca.transform(scaled_data)"
   ]
  },
  {
   "cell_type": "code",
   "execution_count": 5,
   "id": "fb3a746d",
   "metadata": {},
   "outputs": [
    {
     "data": {
      "text/plain": [
       "(130, 121)"
      ]
     },
     "execution_count": 5,
     "metadata": {},
     "output_type": "execute_result"
    }
   ],
   "source": [
    "x_pca.shape"
   ]
  },
  {
   "cell_type": "code",
   "execution_count": 7,
   "id": "16e4d894",
   "metadata": {},
   "outputs": [],
   "source": [
    "from imblearn.over_sampling import SMOTE\n",
    "oversample = SMOTE()\n",
    "x_pca,label = oversample.fit_resample(x_pca,label)"
   ]
  },
  {
   "cell_type": "code",
   "execution_count": 29,
   "id": "b295e605",
   "metadata": {},
   "outputs": [],
   "source": [
    "#Split the data after PCA.\n",
    "pca_x_train, pca_x_test, pca_y_train, pca_y_test = train_test_split(x_pca, label, test_size=0.2)"
   ]
  },
  {
   "cell_type": "code",
   "execution_count": 9,
   "id": "a79048d4",
   "metadata": {},
   "outputs": [
    {
     "name": "stdout",
     "output_type": "stream",
     "text": [
      "KNN accuracy after PCA: 89.13\n",
      "KNN F1 score after PCA: 87.62\n"
     ]
    }
   ],
   "source": [
    "#Call the package for verification on the data after PCA.\n",
    "model = KNeighborsClassifier()\n",
    "model.fit(pca_x_train, pca_y_train)\n",
    "pca_y_pred = model.predict(pca_x_test)\n",
    "print('KNN accuracy after PCA: %.2f' % (metrics.accuracy_score(pca_y_pred, pca_y_test) * 100))\n",
    "print('KNN F1 score after PCA: %.2f' % (metrics.f1_score(pca_y_pred, pca_y_test, average='macro') * 100))"
   ]
  },
  {
   "cell_type": "code",
   "execution_count": 10,
   "id": "8774375d",
   "metadata": {},
   "outputs": [
    {
     "name": "stdout",
     "output_type": "stream",
     "text": [
      "LogisticRegression accuracy after PCA: 97.83\n",
      "LogisticRegression F1 score after PCA: 97.77\n"
     ]
    }
   ],
   "source": [
    "model = LogisticRegression(solver='lbfgs', max_iter=5000)\n",
    "model.fit(pca_x_train, pca_y_train)\n",
    "pca_y_pred = model.predict(pca_x_test)\n",
    "print('LogisticRegression accuracy after PCA: %.2f' % (metrics.accuracy_score(pca_y_pred, pca_y_test) * 100))\n",
    "print('LogisticRegression F1 score after PCA: %.2f' % (metrics.f1_score(pca_y_pred, pca_y_test,average='macro') * 100))"
   ]
  },
  {
   "cell_type": "code",
   "execution_count": 32,
   "id": "4196a3f9",
   "metadata": {},
   "outputs": [
    {
     "name": "stdout",
     "output_type": "stream",
     "text": [
      "Naive Bayes accuracy after PCA: 91.30\n",
      "Naive Bayes F1 score after PCA: 91.92\n"
     ]
    }
   ],
   "source": [
    "nb = GaussianNB()\n",
    "nb.fit(pca_x_train, pca_y_train)\n",
    "pca_y_pred = nb.predict(pca_x_test)\n",
    "print(\"Naive Bayes accuracy after PCA: %.2f\" % (nb.score(pca_x_test, pca_y_test) * 100))\n",
    "print('Naive Bayes F1 score after PCA: %.2f' % (metrics.f1_score(pca_y_pred, pca_y_test,average='macro') * 100))"
   ]
  },
  {
   "cell_type": "code",
   "execution_count": 12,
   "id": "76e4f866",
   "metadata": {},
   "outputs": [
    {
     "name": "stdout",
     "output_type": "stream",
     "text": [
      "Random Forest accuracy after PCA: 97.83\n",
      "Random Forest F1 score after PCA: 97.77\n"
     ]
    }
   ],
   "source": [
    "#Random Forest\n",
    "rf = RandomForestClassifier()\n",
    "rf.fit(pca_x_train, pca_y_train)\n",
    "pca_y_pred = rf.predict(pca_x_test)\n",
    "print(\"Random Forest accuracy after PCA: %.2f\" % (metrics.accuracy_score(pca_y_pred, pca_y_test) * 100))\n",
    "print('Random Forest F1 score after PCA: %.2f' % (metrics.f1_score(pca_y_pred, pca_y_test,average='macro') * 100))"
   ]
  },
  {
   "cell_type": "code",
   "execution_count": 35,
   "id": "18b6b604",
   "metadata": {
    "scrolled": false
   },
   "outputs": [
    {
     "name": "stdout",
     "output_type": "stream",
     "text": [
      "Accuracy value\n",
      "KNN 3-fold cross validation: 92.28%\n",
      "F1 score\n",
      "KNN 3-fold cross validation: 90.74%\n",
      "Accuracy value\n",
      "LogisticRegression 3-fold cross validation: 96.92%\n",
      "F1 score\n",
      "LogisticRegression 3-fold cross validation: 97.18%\n",
      "Accuracy value\n",
      "Naive Bayes 3-fold cross validation: 100.00%\n",
      "F1 score\n",
      "Naive Bayes 3-fold cross validation: 100.00%\n",
      "Accuracy value\n",
      "Random Forest 3-fold cross validation: 92.28%\n",
      "F1 score\n",
      "Random Forest 3-fold cross validation: 93.39%\n"
     ]
    }
   ],
   "source": [
    "#Check the 3-fold cross validation results on all models.\n",
    "# num_list = []\n",
    "models = {\n",
    "    'KNN 3-fold cross validation': KNeighborsClassifier(),\n",
    "    'LogisticRegression 3-fold cross validation': LogisticRegression(solver='lbfgs', max_iter=2000),\n",
    "    'Naive Bayes 3-fold cross validation': GaussianNB(),\n",
    "    'Random Forest 3-fold cross validation': RandomForestClassifier(),\n",
    "}\n",
    "\n",
    "cv = KFold(n_splits=3, random_state=66, shuffle=True)\n",
    "\n",
    "for name, model in models.items():\n",
    "    scores = cross_val_score(model, dataset, dataset[\"type\"], cv = cv)\n",
    "    f1_scores = cross_val_score(model, dataset, dataset[\"type\"], scoring=\"f1_macro\",cv = cv)\n",
    "    \n",
    "    print('Accuracy value')\n",
    "    print('%s: %.2f%%' % (name, np.mean(scores) * 100))\n",
    "    print('F1 score')\n",
    "    print('%s: %.2f%%' % (name, np.mean(f1_scores) * 100))\n",
    "#     num_list.append('%.2f' % np.mean(scores))\n",
    "# print(num_list)"
   ]
  },
  {
   "cell_type": "code",
   "execution_count": 36,
   "id": "519591a3",
   "metadata": {},
   "outputs": [
    {
     "data": {
      "image/png": "[encoded data removed]",
      "text/plain": [
       "<Figure size 432x288 with 1 Axes>"
      ]
     },
     "metadata": {
      "needs_background": "light"
     },
     "output_type": "display_data"
    }
   ],
   "source": [
    "name_list = ['KNN', 'LogisticRegression','Naive Bayes','Random Forest']\n",
    "num_list1 = [0.9228, 0.9692, 1.000, 0.9228]\n",
    "num_list2 = [0.9074, 0.9718, 1.000, 0.9339]\n",
    "x =list(range(len(num_list1)))\n",
    "total_width, n = 0.8, 2\n",
    "width = total_width / n\n",
    "\n",
    "bars1 = plt.bar(x, num_list1, width=width, label='Accuracy score', fc = 'skyblue')\n",
    "# bars1 = plt.bar(x, num_list1, width=width, label='3-fold', tick_label = name_list, fc = 'skyblue')\n",
    "for bar in bars1:\n",
    "    yval = bar.get_height()\n",
    "    plt.text(bar.get_x(), yval + .005, yval)\n",
    "for i in range(len(x)):\n",
    "    x[i] = x[i] + width\n",
    "bars2 = plt.bar(x, num_list2, width=width, label='F1 score', tick_label = name_list,fc = 'orange')\n",
    "for bar in bars2:\n",
    "    yval = bar.get_height()\n",
    "    plt.text(bar.get_x(), yval + .005, yval)\n",
    "    \n",
    "plt.title(\"3-fold Cross Validation\")\n",
    "plt.legend(bbox_to_anchor=(1.05, 1), loc='upper left', borderaxespad=0)\n",
    "plt.show()"
   ]
  }
 ],
 "metadata": {
  "kernelspec": {
   "display_name": "Python 3 (ipykernel)",
   "language": "python",
   "name": "python3"
  },
  "language_info": {
   "codemirror_mode": {
    "name": "ipython",
    "version": 3
   },
   "file_extension": ".py",
   "mimetype": "text/x-python",
   "name": "python",
   "nbconvert_exporter": "python",
   "pygments_lexer": "ipython3",
   "version": "3.9.7"
  }
 },
 "nbformat": 4,
 "nbformat_minor": 5
}
