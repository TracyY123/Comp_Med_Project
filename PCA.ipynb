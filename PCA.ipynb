{
 "cells": [
  {
   "cell_type": "code",
   "execution_count": 34,
   "id": "bf7731f6",
   "metadata": {},
   "outputs": [],
   "source": [
    "# PCA\n",
    "import pandas as pd\n",
    "import numpy as np\n",
    "from sklearn.decomposition import PCA\n",
    "from sklearn.model_selection import train_test_split\n",
    "import matplotlib.pyplot as plt\n",
    "from sklearn.preprocessing import StandardScaler\n",
    "from sklearn.neighbors import KNeighborsClassifier\n",
    "from sklearn import metrics\n",
    "from sklearn.naive_bayes import GaussianNB\n",
    "from sklearn.linear_model import LogisticRegression\n",
    "from sklearn.ensemble import RandomForestClassifier\n",
    "from sklearn.model_selection import KFold, cross_val_score, cross_val_predict"
   ]
  },
  {
   "cell_type": "code",
   "execution_count": 59,
   "id": "807c8c4b",
   "metadata": {},
   "outputs": [],
   "source": [
    "# read in file\n",
    "dataset = pd.read_csv(\"Brain_GSE50161.csv\")\n",
    "dataset['type'] = dataset['type'].replace(['ependymoma', 'glioblastoma','medulloblastoma', 'pilocytic_astrocytoma','normal'],[0,1,2,3,4])\n",
    "label = dataset.iloc[:,1]\n",
    "original_features = dataset.iloc[:,2:]"
   ]
  },
  {
   "cell_type": "code",
   "execution_count": 60,
   "id": "29ca8bec",
   "metadata": {},
   "outputs": [],
   "source": [
    "# mean centering ((x-mean)/std)\n",
    "# it is the same as standardization\n",
    "original_features = np.array(original_features)\n",
    "features = np.divide((original_features-original_features.mean(0)),original_features.std(0))"
   ]
  },
  {
   "cell_type": "code",
   "execution_count": null,
   "id": "a40b3d54",
   "metadata": {},
   "outputs": [],
   "source": [
    "# # Normalization:\n",
    "# features = (original_features - np.min(original_features)) / (np.max(original_features) - np.min(original_features))"
   ]
  },
  {
   "cell_type": "code",
   "execution_count": 62,
   "id": "e7391695",
   "metadata": {},
   "outputs": [],
   "source": [
    "#PCA, Ensure that the data after dimensionality reduction maintains 99% of the information\n",
    "scalar = StandardScaler()\n",
    "scalar.fit(features)\n",
    "scaled_data = scalar.transform(features)\n",
    "\n",
    "pca = PCA(n_components=0.99)\n",
    "pca.fit(scaled_data)\n",
    "x_pca = pca.transform(scaled_data)"
   ]
  },
  {
   "cell_type": "code",
   "execution_count": 63,
   "id": "87dfd6e4",
   "metadata": {},
   "outputs": [
    {
     "data": {
      "text/plain": [
       "(130, 121)"
      ]
     },
     "execution_count": 63,
     "metadata": {},
     "output_type": "execute_result"
    }
   ],
   "source": [
    "x_pca.shape"
   ]
  },
  {
   "cell_type": "code",
   "execution_count": 64,
   "id": "308a1903",
   "metadata": {},
   "outputs": [],
   "source": [
    "from imblearn.over_sampling import SMOTE"
   ]
  },
  {
   "cell_type": "code",
   "execution_count": 65,
   "id": "a3662843",
   "metadata": {},
   "outputs": [],
   "source": [
    "#Split the data after PCA.\n",
    "pca_x_train, pca_x_test, pca_y_train, pca_y_test = train_test_split(x_pca, label, test_size=1/3)"
   ]
  },
  {
   "cell_type": "code",
   "execution_count": 66,
   "id": "1b63971a",
   "metadata": {},
   "outputs": [],
   "source": [
    "sm = SMOTE()\n",
    "pca_x_train, pca_y_train = sm.fit_resample(pca_x_train, pca_y_train)"
   ]
  },
  {
   "cell_type": "code",
   "execution_count": 72,
   "id": "311909e7",
   "metadata": {},
   "outputs": [
    {
     "name": "stdout",
     "output_type": "stream",
     "text": [
      "KNN accuracy after PCA: 70.45\n",
      "KNN F1 score after PCA: 74.20\n"
     ]
    }
   ],
   "source": [
    "#Call the package for verification on the data after PCA.\n",
    "model = KNeighborsClassifier()\n",
    "model.fit(pca_x_train, pca_y_train)\n",
    "pca_y_pred = model.predict(pca_x_test)\n",
    "print('KNN accuracy after PCA: %.2f' % (metrics.accuracy_score(pca_y_pred, pca_y_test) * 100))\n",
    "print('KNN F1 score after PCA: %.2f' % (metrics.f1_score(pca_y_pred, pca_y_test, average='macro') * 100))"
   ]
  },
  {
   "cell_type": "code",
   "execution_count": 73,
   "id": "bc3b428d",
   "metadata": {},
   "outputs": [
    {
     "name": "stdout",
     "output_type": "stream",
     "text": [
      "LogisticRegression accuracy after PCA: 86.36\n",
      "LogisticRegression F1 score after PCA: 87.48\n"
     ]
    }
   ],
   "source": [
    "model = LogisticRegression(solver='lbfgs', max_iter=5000)\n",
    "model.fit(pca_x_train, pca_y_train)\n",
    "pca_y_pred = model.predict(pca_x_test)\n",
    "print('LogisticRegression accuracy after PCA: %.2f' % (metrics.accuracy_score(pca_y_pred, pca_y_test) * 100))\n",
    "print('LogisticRegression F1 score after PCA: %.2f' % (metrics.f1_score(pca_y_pred, pca_y_test,average='macro') * 100))"
   ]
  },
  {
   "cell_type": "code",
   "execution_count": 74,
   "id": "73b0ff61",
   "metadata": {},
   "outputs": [
    {
     "name": "stdout",
     "output_type": "stream",
     "text": [
      "Naive Bayes accuracy after PCA: 54.55\n",
      "Naive Bayes F1 score after PCA: 48.76\n"
     ]
    }
   ],
   "source": [
    "nb = GaussianNB()\n",
    "nb.fit(pca_x_train, pca_y_train)\n",
    "pca_y_pred = nb.predict(pca_x_test)\n",
    "print(\"Naive Bayes accuracy after PCA: %.2f\" % (nb.score(pca_x_test, pca_y_test) * 100))\n",
    "print('Naive Bayes F1 score after PCA: %.2f' % (metrics.f1_score(pca_y_pred, pca_y_test,average='macro') * 100))"
   ]
  },
  {
   "cell_type": "code",
   "execution_count": 75,
   "id": "430aac87",
   "metadata": {},
   "outputs": [
    {
     "name": "stdout",
     "output_type": "stream",
     "text": [
      "Random Forest accuracy after PCA: 77.27\n",
      "Random Forest F1 score after PCA: 75.73\n"
     ]
    }
   ],
   "source": [
    "#Random Forest\n",
    "rf = RandomForestClassifier()\n",
    "rf.fit(pca_x_train, pca_y_train)\n",
    "pca_y_pred = rf.predict(pca_x_test)\n",
    "print(\"Random Forest accuracy after PCA: %.2f\" % (metrics.accuracy_score(pca_y_pred, pca_y_test) * 100))\n",
    "print('Random Forest F1 score after PCA: %.2f' % (metrics.f1_score(pca_y_pred, pca_y_test,average='macro') * 100))"
   ]
  },
  {
   "cell_type": "code",
   "execution_count": 76,
   "id": "0f038fb7",
   "metadata": {},
   "outputs": [],
   "source": [
    "from imblearn.pipeline import Pipeline"
   ]
  },
  {
   "cell_type": "code",
   "execution_count": 78,
   "id": "001dd0fc",
   "metadata": {},
   "outputs": [
    {
     "name": "stdout",
     "output_type": "stream",
     "text": [
      "Accuracy value\n",
      "KNN 3-fold cross validation: 80.76%\n",
      "F1 score\n",
      "KNN 3-fold cross validation: 77.09%\n",
      "Accuracy value\n",
      "LogisticRegression 3-fold cross validation: 96.93%\n",
      "F1 score\n",
      "LogisticRegression 3-fold cross validation: 96.79%\n",
      "Accuracy value\n",
      "Naive Bayes 3-fold cross validation: 53.82%\n",
      "F1 score\n",
      "Naive Bayes 3-fold cross validation: 38.82%\n",
      "Accuracy value\n",
      "Random Forest 3-fold cross validation: 79.21%\n",
      "F1 score\n",
      "Random Forest 3-fold cross validation: 80.88%\n"
     ]
    }
   ],
   "source": [
    "#Check the 3-fold cross validation results on all models.\n",
    "num_list1 = []\n",
    "num_list2 = []\n",
    "models = {\n",
    "    'KNN 3-fold cross validation': KNeighborsClassifier(),\n",
    "    'LogisticRegression 3-fold cross validation': LogisticRegression(solver='lbfgs', max_iter=2000),\n",
    "    'Naive Bayes 3-fold cross validation': GaussianNB(),\n",
    "    'Random Forest 3-fold cross validation': RandomForestClassifier(),\n",
    "}\n",
    "cv = KFold(n_splits=3, shuffle=True)\n",
    "\n",
    "for name, model in models.items():\n",
    "    steps = [('over', SMOTE()), ('model', model)]\n",
    "    pipeline = Pipeline(steps=steps)\n",
    "    scores = cross_val_score(pipeline, x_pca, label, cv = cv)\n",
    "    f1_scores = cross_val_score(pipeline, x_pca, label, scoring=\"f1_macro\",cv = cv)\n",
    "    \n",
    "    print('Accuracy value')\n",
    "    print('%s: %.2f%%' % (name, np.mean(scores) * 100))\n",
    "    print('F1 score')\n",
    "    print('%s: %.2f%%' % (name, np.mean(f1_scores) * 100))\n",
    "    num_list1.append('%.4f' % np.mean(scores))\n",
    "    num_list2.append('%.4f' % np.mean(f1_scores))\n",
    "# print(num_list1)\n",
    "# print(num_list2)"
   ]
  },
  {
   "cell_type": "code",
   "execution_count": 79,
   "id": "e0888f33",
   "metadata": {},
   "outputs": [
    {
     "data": {
      "image/png": "[encoded data removed]",
      "text/plain": [
       "<Figure size 432x288 with 1 Axes>"
      ]
     },
     "metadata": {
      "needs_background": "light"
     },
     "output_type": "display_data"
    }
   ],
   "source": [
    "name_list = ['KNN', 'Logistic Regression','Naive Bayes','Random Forest']\n",
    "num_list1 = list(map(float, num_list1))\n",
    "num_list2 = list(map(float, num_list2))\n",
    "x =list(range(len(num_list1)))\n",
    "total_width, n = 0.92, 2.2\n",
    "width = total_width / n\n",
    "\n",
    "bars1 = plt.bar(x, num_list1, width=width, label='Accuracy score', fc = 'skyblue')\n",
    "# bars1 = plt.bar(x, num_list1, width=width, label='3-fold', tick_label = name_list, fc = 'skyblue')\n",
    "for bar in bars1:\n",
    "    yval = bar.get_height()\n",
    "    plt.text(bar.get_x(), yval + .005, yval)\n",
    "for i in range(len(x)):\n",
    "    x[i] = x[i] + width\n",
    "bars2 = plt.bar(x, num_list2, width=width, label='F1 score', tick_label = name_list,fc = 'orange')\n",
    "for bar in bars2:\n",
    "    yval = bar.get_height()\n",
    "    plt.text(bar.get_x(), yval + .005, yval)\n",
    "    \n",
    "plt.title(\"Results for PCA\")\n",
    "plt.legend(bbox_to_anchor=(1.05, 1), loc='upper left', borderaxespad=0)\n",
    "plt.show()"
   ]
  }
 ],
 "metadata": {
  "kernelspec": {
   "display_name": "Python 3 (ipykernel)",
   "language": "python",
   "name": "python3"
  },
  "language_info": {
   "codemirror_mode": {
    "name": "ipython",
    "version": 3
   },
   "file_extension": ".py",
   "mimetype": "text/x-python",
   "name": "python",
   "nbconvert_exporter": "python",
   "pygments_lexer": "ipython3",
   "version": "3.9.12"
  }
 },
 "nbformat": 4,
 "nbformat_minor": 5
}
